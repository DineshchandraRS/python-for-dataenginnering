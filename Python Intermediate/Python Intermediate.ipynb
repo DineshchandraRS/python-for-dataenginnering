{
 "cells": [
  {
   "cell_type": "code",
   "execution_count": 2,
   "id": "b9fb843b-70d6-403b-9963-e5a2c3b736ae",
   "metadata": {},
   "outputs": [
    {
     "data": {
      "text/plain": [
       "8.0"
      ]
     },
     "execution_count": 2,
     "metadata": {},
     "output_type": "execute_result"
    }
   ],
   "source": [
    "import math\n",
    "math.pow(2,3)"
   ]
  },
  {
   "cell_type": "code",
   "execution_count": 6,
   "id": "4e5c9317-3761-49dc-9db4-9e056009fcd9",
   "metadata": {},
   "outputs": [
    {
     "name": "stdout",
     "output_type": "stream",
     "text": [
      "['Hello Ravi', 'Hello Pooja', 'Hello mira']\n"
     ]
    }
   ],
   "source": [
    "names = [\"Ravi\", \"Pooja\", \"mira\"]\n",
    "hello = [\"Hello\" + \" \" + name for name in names]\n",
    "print(hello)"
   ]
  },
  {
   "cell_type": "code",
   "execution_count": 8,
   "id": "76498cf8-c483-45d9-8242-182d1704966a",
   "metadata": {},
   "outputs": [],
   "source": [
    "with open(\"myfile.text\", \"w\") as f:\n",
    "    f.write(\"This is my first line \\n\")\n",
    "    f.write(\"This is my second line \\n\")\n",
    "    f.write(\"This is my third line \\n\")"
   ]
  },
  {
   "cell_type": "code",
   "execution_count": 9,
   "id": "988c9024-06a7-4b1d-a7be-96b991b93125",
   "metadata": {},
   "outputs": [
    {
     "name": "stdout",
     "output_type": "stream",
     "text": [
      "This is my first line \n",
      "\n",
      "This is my second line \n",
      "\n",
      "This is my third line \n",
      "\n"
     ]
    }
   ],
   "source": [
    "with open(\"myfile.text\", \"r\") as f:\n",
    "    for line in f:\n",
    "        print(line)"
   ]
  },
  {
   "cell_type": "code",
   "execution_count": 10,
   "id": "3abbf01d-e619-4a6e-8936-56b242859a3a",
   "metadata": {},
   "outputs": [],
   "source": [
    "f.close()"
   ]
  },
  {
   "cell_type": "code",
   "execution_count": 11,
   "id": "af298036-58f6-4a94-ad7e-92f77ed04eec",
   "metadata": {},
   "outputs": [],
   "source": [
    "def name_of_function(arg1, arg2):\n",
    "    '''\n",
    "    This is where the functions Document String (doc-string) goes\n",
    "    '''\n",
    "    "
   ]
  },
  {
   "cell_type": "code",
   "execution_count": 12,
   "id": "0843b7ff-9e59-4057-b91b-0b7cf0c23ebd",
   "metadata": {},
   "outputs": [],
   "source": [
    "def say_hello():\n",
    "    print(\"Hello\")"
   ]
  },
  {
   "cell_type": "code",
   "execution_count": 13,
   "id": "05b8fdcf-a9f5-4a75-9ed6-d17c96baac48",
   "metadata": {},
   "outputs": [
    {
     "name": "stdout",
     "output_type": "stream",
     "text": [
      "Hello\n"
     ]
    }
   ],
   "source": [
    "say_hello()"
   ]
  },
  {
   "cell_type": "code",
   "execution_count": 15,
   "id": "918ebd39-5934-4fb6-b32b-14d29f19088f",
   "metadata": {},
   "outputs": [],
   "source": [
    "# Default Arguments\n",
    "def double_the_number(num=1):\n",
    "    return num*2"
   ]
  },
  {
   "cell_type": "code",
   "execution_count": 17,
   "id": "77aa7452-6687-4d0a-89c2-4b09c1a0d061",
   "metadata": {},
   "outputs": [
    {
     "name": "stdout",
     "output_type": "stream",
     "text": [
      "4\n"
     ]
    }
   ],
   "source": [
    "print(double_the_number(2))"
   ]
  },
  {
   "cell_type": "code",
   "execution_count": 18,
   "id": "e67aad74-4a1c-47e7-8129-714fbcbe8a81",
   "metadata": {},
   "outputs": [],
   "source": [
    "# Positional Arguments\n",
    "def double_the_number(num):\n",
    "    return num*2"
   ]
  },
  {
   "cell_type": "code",
   "execution_count": 23,
   "id": "71970bba-69b7-4dba-aded-ea347956e4e5",
   "metadata": {},
   "outputs": [
    {
     "name": "stdout",
     "output_type": "stream",
     "text": [
      "[2, 3, 2, 3]\n"
     ]
    }
   ],
   "source": [
    "print(double_the_number([2,3]))"
   ]
  },
  {
   "cell_type": "code",
   "execution_count": 24,
   "id": "4bc0d199-1c54-4e72-9465-09709dea4025",
   "metadata": {},
   "outputs": [],
   "source": [
    "# Positional Arguments\n",
    "def double_the_number(nums):\n",
    "    return [num*2 for num in nums]"
   ]
  },
  {
   "cell_type": "code",
   "execution_count": 25,
   "id": "ea620676-ab2a-4216-ae2c-4272bbdaa774",
   "metadata": {},
   "outputs": [
    {
     "name": "stdout",
     "output_type": "stream",
     "text": [
      "[4, 6]\n"
     ]
    }
   ],
   "source": [
    "print(double_the_number([2,3]))"
   ]
  },
  {
   "cell_type": "code",
   "execution_count": 26,
   "id": "8f503c27-9a0d-47f0-a4de-8c6741910eb4",
   "metadata": {},
   "outputs": [],
   "source": [
    "def database_columns(*args):\n",
    "    for arg in args:\n",
    "        print(arg)"
   ]
  },
  {
   "cell_type": "code",
   "execution_count": 27,
   "id": "7c069431-3070-4f3d-9b9d-d7cd4f668dd7",
   "metadata": {},
   "outputs": [
    {
     "name": "stdout",
     "output_type": "stream",
     "text": [
      "Name\n",
      "Age\n",
      "Height\n"
     ]
    }
   ],
   "source": [
    "database_columns(\"Name\", \"Age\", \"Height\")"
   ]
  },
  {
   "cell_type": "code",
   "execution_count": 28,
   "id": "353fa418-2bc0-4f51-9314-d0e154f75f29",
   "metadata": {},
   "outputs": [],
   "source": [
    "def database_columns(**kwargs):\n",
    "    for value in kwargs.items():\n",
    "        print(value)\n"
   ]
  },
  {
   "cell_type": "code",
   "execution_count": 29,
   "id": "814333e8-ea88-421e-a51f-efaba24b5804",
   "metadata": {},
   "outputs": [
    {
     "name": "stdout",
     "output_type": "stream",
     "text": [
      "('name', 'Dinesh')\n",
      "('Age', 23)\n"
     ]
    }
   ],
   "source": [
    "database_columns(name = \"Dinesh\", Age = 23)"
   ]
  },
  {
   "cell_type": "code",
   "execution_count": 30,
   "id": "4291ab37-81fe-42f6-863f-a69611fb7157",
   "metadata": {},
   "outputs": [],
   "source": [
    "# Lambda Functions\n",
    "square_lambda = lambda num: num ** 2"
   ]
  },
  {
   "cell_type": "code",
   "execution_count": 32,
   "id": "237bab6e-a8d2-4483-9d66-a71302ed3dd2",
   "metadata": {},
   "outputs": [
    {
     "data": {
      "text/plain": [
       "4"
      ]
     },
     "execution_count": 32,
     "metadata": {},
     "output_type": "execute_result"
    }
   ],
   "source": [
    "square_lambda(2)"
   ]
  },
  {
   "cell_type": "code",
   "execution_count": 35,
   "id": "37024b38-d436-4203-9336-1ae46669f526",
   "metadata": {},
   "outputs": [
    {
     "name": "stdout",
     "output_type": "stream",
     "text": [
      "<class '__main__.sample'>\n"
     ]
    }
   ],
   "source": [
    "class sample():\n",
    "    pass\n",
    "\n",
    "x = sample()\n",
    "print(type(x))"
   ]
  },
  {
   "cell_type": "code",
   "execution_count": 36,
   "id": "264eaad9-aa5a-425c-a67e-cf69301885f7",
   "metadata": {},
   "outputs": [],
   "source": [
    "# Defining the class Attributes\n",
    "class Dog(object):\n",
    "    def __init__(self, breed):\n",
    "        self.breed = breed"
   ]
  },
  {
   "cell_type": "code",
   "execution_count": 38,
   "id": "e478efec-7834-4acd-9da8-395a02b45941",
   "metadata": {},
   "outputs": [],
   "source": [
    "sam = Dog(breed = \"Lab\") # Instance"
   ]
  },
  {
   "cell_type": "code",
   "execution_count": 40,
   "id": "8fee0d26-4ea4-4aac-9359-ac8ace577bee",
   "metadata": {},
   "outputs": [
    {
     "name": "stdout",
     "output_type": "stream",
     "text": [
      "Lab\n"
     ]
    }
   ],
   "source": [
    "print(sam.breed)"
   ]
  },
  {
   "cell_type": "code",
   "execution_count": 41,
   "id": "42d084cb-0098-43c6-8237-54c81ea8382e",
   "metadata": {},
   "outputs": [],
   "source": [
    "class circle(object):\n",
    "    pi = 3.14\n",
    "    def __init__(self,radius=1):\n",
    "        self.radius = radius\n",
    "    def area(self):\n",
    "        return self.radius * self.radius * circle.pi\n"
   ]
  },
  {
   "cell_type": "code",
   "execution_count": 48,
   "id": "a03fc47e-c735-44c9-8d00-3dc5198faf16",
   "metadata": {},
   "outputs": [],
   "source": [
    "class student():\n",
    "    school_name = \"ABC School\"\n",
    "\n",
    "    def __init__(self,name,age):\n",
    "        self.name = name\n",
    "        self.age = age\n",
    "\n",
    "    def show(self):\n",
    "        return(self.name, self.age, student.school_name)\n",
    "\n",
    "    @classmethod\n",
    "    def change_school(cls, name):\n",
    "        cls.school_name = name\n",
    "\n",
    "    @staticmethod\n",
    "    def find_notes(subject_name):\n",
    "        return ['chapter 1', 'chapter 2', 'chapter 3']"
   ]
  },
  {
   "cell_type": "code",
   "execution_count": 49,
   "id": "1e773d74-0d62-4506-9d4e-815bd381d2ea",
   "metadata": {},
   "outputs": [],
   "source": [
    "dinesh = student(\"Dinesh\", 24)\n"
   ]
  },
  {
   "cell_type": "code",
   "execution_count": 50,
   "id": "763678c4-2d33-4fa0-9121-10e9885ca40f",
   "metadata": {},
   "outputs": [
    {
     "data": {
      "text/plain": [
       "('Dinesh', 24, 'ABC School')"
      ]
     },
     "execution_count": 50,
     "metadata": {},
     "output_type": "execute_result"
    }
   ],
   "source": [
    "dinesh.show()"
   ]
  },
  {
   "cell_type": "code",
   "execution_count": 51,
   "id": "525d21aa-35e0-4f6d-a4a5-b4c0166d80e3",
   "metadata": {},
   "outputs": [],
   "source": [
    "student.change_school(\"XYZ School\")"
   ]
  },
  {
   "cell_type": "code",
   "execution_count": 52,
   "id": "674238fd-4674-440d-8f88-a97e726ce5cf",
   "metadata": {},
   "outputs": [
    {
     "data": {
      "text/plain": [
       "('Dinesh', 24, 'XYZ School')"
      ]
     },
     "execution_count": 52,
     "metadata": {},
     "output_type": "execute_result"
    }
   ],
   "source": [
    "dinesh.show()"
   ]
  },
  {
   "cell_type": "code",
   "execution_count": null,
   "id": "45ecc311-af45-4bcc-89da-eaac9402aa3c",
   "metadata": {},
   "outputs": [],
   "source": []
  }
 ],
 "metadata": {
  "kernelspec": {
   "display_name": "Python 3 (ipykernel)",
   "language": "python",
   "name": "python3"
  },
  "language_info": {
   "codemirror_mode": {
    "name": "ipython",
    "version": 3
   },
   "file_extension": ".py",
   "mimetype": "text/x-python",
   "name": "python",
   "nbconvert_exporter": "python",
   "pygments_lexer": "ipython3",
   "version": "3.10.5"
  }
 },
 "nbformat": 4,
 "nbformat_minor": 5
}
