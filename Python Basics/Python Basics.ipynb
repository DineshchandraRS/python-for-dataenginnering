{
 "cells": [
  {
   "cell_type": "code",
   "execution_count": 1,
   "id": "7eba306f-c960-4bef-a8ef-d2d06289d9de",
   "metadata": {},
   "outputs": [
    {
     "name": "stdout",
     "output_type": "stream",
     "text": [
      "Hi This is Dinesh Chandra & This is my Data Science World\n"
     ]
    }
   ],
   "source": [
    "# Strings\n",
    "print(\"Hi This is Dinesh Chandra & This is my Data Science World\")"
   ]
  },
  {
   "cell_type": "code",
   "execution_count": 2,
   "id": "a001a486-c0b5-4746-bc28-bb5b207e288a",
   "metadata": {},
   "outputs": [],
   "source": [
    "s = 'Hello World'\n"
   ]
  },
  {
   "cell_type": "code",
   "execution_count": 3,
   "id": "3036225f-da99-4575-9508-1ebe4ab755cc",
   "metadata": {},
   "outputs": [
    {
     "data": {
      "text/plain": [
       "'H'"
      ]
     },
     "execution_count": 3,
     "metadata": {},
     "output_type": "execute_result"
    }
   ],
   "source": [
    "s[0]"
   ]
  },
  {
   "cell_type": "code",
   "execution_count": 7,
   "id": "53df2384-b005-4986-bcd1-9f98e4c4e9d3",
   "metadata": {},
   "outputs": [
    {
     "name": "stdout",
     "output_type": "stream",
     "text": [
      "d\n",
      "W\n"
     ]
    }
   ],
   "source": [
    "print(s[-1])\n",
    "print(s[6])\n"
   ]
  },
  {
   "cell_type": "code",
   "execution_count": 15,
   "id": "bb1c199d-d4b4-4f3a-913e-9db4143f906e",
   "metadata": {},
   "outputs": [
    {
     "name": "stdout",
     "output_type": "stream",
     "text": [
      "Hello World\n"
     ]
    }
   ],
   "source": [
    "# concatenation \n",
    "\n",
    "s1 = 'Hello'\n",
    "s2 = \"World\"\n",
    "print(s1 + \" \"+s2)"
   ]
  },
  {
   "cell_type": "code",
   "execution_count": 16,
   "id": "c1467a64-06a8-4b3e-ab75-7e7132972203",
   "metadata": {},
   "outputs": [
    {
     "name": "stdout",
     "output_type": "stream",
     "text": [
      "HelloHelloHelloHelloHelloHelloHelloHelloHelloHello\n"
     ]
    }
   ],
   "source": [
    "print(\"Hello\" * 10)"
   ]
  },
  {
   "cell_type": "code",
   "execution_count": 17,
   "id": "d8fb7421-92f5-4fbd-995b-2277e0220819",
   "metadata": {},
   "outputs": [
    {
     "name": "stdout",
     "output_type": "stream",
     "text": [
      "DineshDineshDineshDineshDineshDineshDineshDineshDineshDineshDineshDineshDineshDineshDineshDineshDineshDineshDineshDinesh\n"
     ]
    }
   ],
   "source": [
    "print(\"Dinesh\" * 20)"
   ]
  },
  {
   "cell_type": "code",
   "execution_count": 19,
   "id": "32539dc4-e03a-424e-909c-6e2841504cd7",
   "metadata": {},
   "outputs": [
    {
     "data": {
      "text/plain": [
       "'World'"
      ]
     },
     "execution_count": 19,
     "metadata": {},
     "output_type": "execute_result"
    }
   ],
   "source": [
    "s = \"Namaste World\"\n",
    "s[8:]"
   ]
  },
  {
   "cell_type": "code",
   "execution_count": 20,
   "id": "1c14fde0-cc5c-457f-b1fa-1caa90f0f824",
   "metadata": {},
   "outputs": [
    {
     "data": {
      "text/plain": [
       "'World'"
      ]
     },
     "execution_count": 20,
     "metadata": {},
     "output_type": "execute_result"
    }
   ],
   "source": [
    "s[-5:]"
   ]
  },
  {
   "cell_type": "code",
   "execution_count": 22,
   "id": "2fba6443-48e8-42bf-bfe3-3189ef196232",
   "metadata": {},
   "outputs": [
    {
     "data": {
      "text/plain": [
       "'ste'"
      ]
     },
     "execution_count": 22,
     "metadata": {},
     "output_type": "execute_result"
    }
   ],
   "source": [
    "s[-9:-6]"
   ]
  },
  {
   "cell_type": "code",
   "execution_count": 24,
   "id": "433defeb-e468-4b4e-9a05-ca244f4fd0f3",
   "metadata": {},
   "outputs": [
    {
     "name": "stdout",
     "output_type": "stream",
     "text": [
      "True\n"
     ]
    }
   ],
   "source": [
    "print(\"World\" in s)"
   ]
  },
  {
   "cell_type": "code",
   "execution_count": 25,
   "id": "4efba5dd-ce43-4406-8422-752cb9dbdfe8",
   "metadata": {},
   "outputs": [
    {
     "name": "stdout",
     "output_type": "stream",
     "text": [
      "NAMASTE WORLD\n",
      "namaste world\n"
     ]
    }
   ],
   "source": [
    "print(s.upper())\n",
    "print(s.lower())"
   ]
  },
  {
   "cell_type": "code",
   "execution_count": 26,
   "id": "c1130dca-0414-44af-829f-b8bd30f4a6a0",
   "metadata": {},
   "outputs": [
    {
     "name": "stdout",
     "output_type": "stream",
     "text": [
      "<class 'str'>\n"
     ]
    }
   ],
   "source": [
    "print(type(s))"
   ]
  },
  {
   "cell_type": "code",
   "execution_count": 30,
   "id": "35541256-ade3-43a9-a61b-984c2dc61cc1",
   "metadata": {},
   "outputs": [
    {
     "name": "stdout",
     "output_type": "stream",
     "text": [
      "my name is Einstein & my age is 22\n",
      "My name is Einstein, my age is 22, and it is True that I am married\n"
     ]
    }
   ],
   "source": [
    "name = \"Einstein\"\n",
    "age = 22\n",
    "married = True\n",
    "print(f'my name is {name} & my age is {age}')\n",
    "print(\"My name is {}, my age is {}, and it is {} that I am married\".format(name, age, married))"
   ]
  },
  {
   "cell_type": "code",
   "execution_count": 32,
   "id": "ccce8897-5d15-4931-a54f-d0ad33d3a970",
   "metadata": {},
   "outputs": [
    {
     "name": "stdout",
     "output_type": "stream",
     "text": [
      "Hello Dinesh Chandra\n"
     ]
    }
   ],
   "source": [
    "my_string = \"Hello\"\n",
    "print(my_string + \" \" +\"Dinesh Chandra\")"
   ]
  },
  {
   "cell_type": "code",
   "execution_count": 37,
   "id": "b6449806-cc6e-4c5b-b88b-539fc2d12187",
   "metadata": {},
   "outputs": [
    {
     "name": "stdout",
     "output_type": "stream",
     "text": [
      "3\n",
      "2\n",
      "<class 'int'>\n"
     ]
    }
   ],
   "source": [
    "# Numbers\n",
    "print(2+1)\n",
    "print(4-2)\n",
    "print(type(4//2))"
   ]
  },
  {
   "cell_type": "code",
   "execution_count": 38,
   "id": "c4808b86-ac44-4a53-a79a-d8da643e8395",
   "metadata": {},
   "outputs": [
    {
     "data": {
      "text/plain": [
       "8"
      ]
     },
     "execution_count": 38,
     "metadata": {},
     "output_type": "execute_result"
    }
   ],
   "source": [
    "2**3"
   ]
  },
  {
   "cell_type": "code",
   "execution_count": 40,
   "id": "34c839c9-4b98-40ba-bfd5-78edd79d0377",
   "metadata": {},
   "outputs": [
    {
     "name": "stdout",
     "output_type": "stream",
     "text": [
      "15.0\n"
     ]
    }
   ],
   "source": [
    "a = 10\n",
    "b = 20\n",
    "c = (a+b)/2\n",
    "print(c)"
   ]
  },
  {
   "cell_type": "code",
   "execution_count": 41,
   "id": "d5f9cc32-9d79-441b-b223-925d965e4051",
   "metadata": {},
   "outputs": [
    {
     "data": {
      "text/plain": [
       "7"
      ]
     },
     "execution_count": 41,
     "metadata": {},
     "output_type": "execute_result"
    }
   ],
   "source": [
    "my_list = [1,2,3,4,5,6,7]\n",
    "len(my_list)"
   ]
  },
  {
   "cell_type": "code",
   "execution_count": 42,
   "id": "804b03b1-c618-4950-9314-80a658c9deea",
   "metadata": {},
   "outputs": [
    {
     "data": {
      "text/plain": [
       "3"
      ]
     },
     "execution_count": 42,
     "metadata": {},
     "output_type": "execute_result"
    }
   ],
   "source": [
    "my_list[2]"
   ]
  },
  {
   "cell_type": "code",
   "execution_count": 44,
   "id": "be080a23-243c-43df-85de-cd146bc6590e",
   "metadata": {},
   "outputs": [],
   "source": [
    "my_list.append([2,30])"
   ]
  },
  {
   "cell_type": "code",
   "execution_count": 45,
   "id": "23a63482-5fa4-4e49-8692-bf832e88b1a3",
   "metadata": {},
   "outputs": [
    {
     "data": {
      "text/plain": [
       "[1, 2, 3, 4, 5, 6, 7, [2, 30]]"
      ]
     },
     "execution_count": 45,
     "metadata": {},
     "output_type": "execute_result"
    }
   ],
   "source": [
    "my_list"
   ]
  },
  {
   "cell_type": "code",
   "execution_count": 46,
   "id": "de331596-3def-4fb7-a542-a55f3c97fbb7",
   "metadata": {},
   "outputs": [],
   "source": [
    "my_list.append(\"Dinesh\")"
   ]
  },
  {
   "cell_type": "code",
   "execution_count": 47,
   "id": "d90dc98c-05b8-4fab-aced-1017892734e3",
   "metadata": {},
   "outputs": [
    {
     "data": {
      "text/plain": [
       "[1, 2, 3, 4, 5, 6, 7, [2, 30], 'Dinesh']"
      ]
     },
     "execution_count": 47,
     "metadata": {},
     "output_type": "execute_result"
    }
   ],
   "source": [
    "my_list"
   ]
  },
  {
   "cell_type": "code",
   "execution_count": 48,
   "id": "8dc1ae90-2781-469c-bae4-46307025d474",
   "metadata": {},
   "outputs": [],
   "source": [
    "my_list.append(2)"
   ]
  },
  {
   "cell_type": "code",
   "execution_count": 49,
   "id": "6277c626-b05a-4081-9c4b-f4885ad63b9e",
   "metadata": {},
   "outputs": [
    {
     "data": {
      "text/plain": [
       "[1, 2, 3, 4, 5, 6, 7, [2, 30], 'Dinesh', 2]"
      ]
     },
     "execution_count": 49,
     "metadata": {},
     "output_type": "execute_result"
    }
   ],
   "source": [
    "my_list"
   ]
  },
  {
   "cell_type": "code",
   "execution_count": 50,
   "id": "baa2891b-9875-4484-91c4-f9e7b356159e",
   "metadata": {},
   "outputs": [],
   "source": [
    "my_list.append([8,9,10,22])"
   ]
  },
  {
   "cell_type": "code",
   "execution_count": 51,
   "id": "55b2a1c3-ff06-4b67-9c52-f21b60f575c7",
   "metadata": {},
   "outputs": [
    {
     "data": {
      "text/plain": [
       "[1, 2, 3, 4, 5, 6, 7, [2, 30], 'Dinesh', 2, [8, 9, 10, 22]]"
      ]
     },
     "execution_count": 51,
     "metadata": {},
     "output_type": "execute_result"
    }
   ],
   "source": [
    "my_list"
   ]
  },
  {
   "cell_type": "code",
   "execution_count": 52,
   "id": "9543541d-f86b-4670-8d97-8afb26b4f59d",
   "metadata": {},
   "outputs": [],
   "source": [
    "my_list.extend([8,9,10,22])"
   ]
  },
  {
   "cell_type": "code",
   "execution_count": 53,
   "id": "3aa36709-abc0-4ef3-87a5-88ac984cdcab",
   "metadata": {},
   "outputs": [
    {
     "data": {
      "text/plain": [
       "[1, 2, 3, 4, 5, 6, 7, [2, 30], 'Dinesh', 2, [8, 9, 10, 22], 8, 9, 10, 22]"
      ]
     },
     "execution_count": 53,
     "metadata": {},
     "output_type": "execute_result"
    }
   ],
   "source": [
    "my_list"
   ]
  },
  {
   "cell_type": "code",
   "execution_count": 54,
   "id": "2f9a529a-c944-42d8-8950-5c01c9e8b3fb",
   "metadata": {},
   "outputs": [
    {
     "data": {
      "text/plain": [
       "[8, 9, 10, 22]"
      ]
     },
     "execution_count": 54,
     "metadata": {},
     "output_type": "execute_result"
    }
   ],
   "source": [
    "my_list.pop(10)"
   ]
  },
  {
   "cell_type": "code",
   "execution_count": 55,
   "id": "0409963c-7237-4aba-b626-4227303dd85d",
   "metadata": {},
   "outputs": [
    {
     "data": {
      "text/plain": [
       "[1, 2, 3, 4, 5, 6, 7, [2, 30], 'Dinesh', 2, 8, 9, 10, 22]"
      ]
     },
     "execution_count": 55,
     "metadata": {},
     "output_type": "execute_result"
    }
   ],
   "source": [
    "my_list"
   ]
  },
  {
   "cell_type": "code",
   "execution_count": 56,
   "id": "248cdcd7-d840-467b-94a8-18e513ef0371",
   "metadata": {},
   "outputs": [],
   "source": [
    "l = list(range(10))"
   ]
  },
  {
   "cell_type": "code",
   "execution_count": 57,
   "id": "1e7d7262-7afa-4483-aab4-05cfd3d2a1d3",
   "metadata": {},
   "outputs": [
    {
     "data": {
      "text/plain": [
       "[0, 1, 2, 3, 4, 5, 6, 7, 8, 9]"
      ]
     },
     "execution_count": 57,
     "metadata": {},
     "output_type": "execute_result"
    }
   ],
   "source": [
    "l"
   ]
  },
  {
   "cell_type": "code",
   "execution_count": 58,
   "id": "0f3e634c-22a4-445b-b78d-a1e1775e2372",
   "metadata": {},
   "outputs": [
    {
     "data": {
      "text/plain": [
       "[5, 6, 7, 8]"
      ]
     },
     "execution_count": 58,
     "metadata": {},
     "output_type": "execute_result"
    }
   ],
   "source": [
    "l[-5:-1]"
   ]
  },
  {
   "cell_type": "code",
   "execution_count": 60,
   "id": "19039f87-7c2b-49d9-9e47-779536245bec",
   "metadata": {},
   "outputs": [],
   "source": [
    "my_list.insert(0, \"Dinesh\")"
   ]
  },
  {
   "cell_type": "code",
   "execution_count": 61,
   "id": "33eb3dd4-6886-43ba-be09-3d9623b4f75a",
   "metadata": {},
   "outputs": [
    {
     "data": {
      "text/plain": [
       "['Dinesh', 1, 2, 3, 4, 5, 6, 7, [2, 30], 'Dinesh', 2, 8, 9, 10, 22]"
      ]
     },
     "execution_count": 61,
     "metadata": {},
     "output_type": "execute_result"
    }
   ],
   "source": [
    "my_list"
   ]
  },
  {
   "cell_type": "code",
   "execution_count": 62,
   "id": "9468633e-1ef3-4689-87f3-ab8e340cef0c",
   "metadata": {},
   "outputs": [
    {
     "data": {
      "text/plain": [
       "'value2'"
      ]
     },
     "execution_count": 62,
     "metadata": {},
     "output_type": "execute_result"
    }
   ],
   "source": [
    "my_dict = {'key1':'value1','key2':'value2'} \n",
    "my_dict['key2']"
   ]
  },
  {
   "cell_type": "code",
   "execution_count": 64,
   "id": "2e2e4946-0bbd-44c5-b8a1-1d7bb6f08043",
   "metadata": {},
   "outputs": [
    {
     "data": {
      "text/plain": [
       "dict_keys(['key1', 'key2'])"
      ]
     },
     "execution_count": 64,
     "metadata": {},
     "output_type": "execute_result"
    }
   ],
   "source": [
    "my_dict.keys()"
   ]
  },
  {
   "cell_type": "code",
   "execution_count": 65,
   "id": "fd3ea6b1-fa37-43a9-99a6-3f89bd4ff2e4",
   "metadata": {},
   "outputs": [
    {
     "data": {
      "text/plain": [
       "dict_values(['value1', 'value2'])"
      ]
     },
     "execution_count": 65,
     "metadata": {},
     "output_type": "execute_result"
    }
   ],
   "source": [
    "my_dict.values()"
   ]
  },
  {
   "cell_type": "code",
   "execution_count": 66,
   "id": "6b0fdc95-f082-423e-a22c-6c895e2e6d45",
   "metadata": {},
   "outputs": [
    {
     "data": {
      "text/plain": [
       "dict_items([('key1', 'value1'), ('key2', 'value2')])"
      ]
     },
     "execution_count": 66,
     "metadata": {},
     "output_type": "execute_result"
    }
   ],
   "source": [
    "my_dict.items()"
   ]
  },
  {
   "cell_type": "code",
   "execution_count": 68,
   "id": "16068c20-2618-4785-8ae3-ce4612f386e4",
   "metadata": {},
   "outputs": [],
   "source": [
    "my_dict['key1'] = 123"
   ]
  },
  {
   "cell_type": "code",
   "execution_count": 69,
   "id": "4c991972-8522-4dac-a2b0-f8dba6cf1fc1",
   "metadata": {},
   "outputs": [
    {
     "data": {
      "text/plain": [
       "{'key1': 123, 'key2': 'value2'}"
      ]
     },
     "execution_count": 69,
     "metadata": {},
     "output_type": "execute_result"
    }
   ],
   "source": [
    "my_dict"
   ]
  },
  {
   "cell_type": "code",
   "execution_count": 70,
   "id": "542a1c37-e97f-4892-b13b-71ecd6e81ecb",
   "metadata": {},
   "outputs": [],
   "source": [
    "my_dict['key1'] = my_dict['key1'] - 123"
   ]
  },
  {
   "cell_type": "code",
   "execution_count": 71,
   "id": "e719b2f1-3e0b-48e6-a6eb-546dc11d8cb5",
   "metadata": {},
   "outputs": [
    {
     "data": {
      "text/plain": [
       "{'key1': 0, 'key2': 'value2'}"
      ]
     },
     "execution_count": 71,
     "metadata": {},
     "output_type": "execute_result"
    }
   ],
   "source": [
    "my_dict"
   ]
  },
  {
   "cell_type": "code",
   "execution_count": 72,
   "id": "ed414981-acb3-41cb-8171-5539a4471bd7",
   "metadata": {},
   "outputs": [],
   "source": [
    "l = [1,1,1,1,1,2,3,3,3]\n",
    "l_sets = set(l)"
   ]
  },
  {
   "cell_type": "code",
   "execution_count": 73,
   "id": "e3dc9025-f7bc-4141-af02-7b9efa4fe75d",
   "metadata": {},
   "outputs": [
    {
     "data": {
      "text/plain": [
       "{1, 2, 3}"
      ]
     },
     "execution_count": 73,
     "metadata": {},
     "output_type": "execute_result"
    }
   ],
   "source": [
    "l_sets"
   ]
  },
  {
   "cell_type": "code",
   "execution_count": 74,
   "id": "5a5732e0-7ca9-4172-b005-a1782fce9174",
   "metadata": {},
   "outputs": [],
   "source": [
    "l_sets.add(4)"
   ]
  },
  {
   "cell_type": "code",
   "execution_count": 75,
   "id": "d78b59d0-7e71-427f-a02f-2195390559b6",
   "metadata": {},
   "outputs": [
    {
     "data": {
      "text/plain": [
       "{1, 2, 3, 4}"
      ]
     },
     "execution_count": 75,
     "metadata": {},
     "output_type": "execute_result"
    }
   ],
   "source": [
    "l_sets"
   ]
  },
  {
   "cell_type": "code",
   "execution_count": 76,
   "id": "8283d38d-0949-4ee0-8391-6f05681d6e25",
   "metadata": {},
   "outputs": [
    {
     "data": {
      "text/plain": [
       "set"
      ]
     },
     "execution_count": 76,
     "metadata": {},
     "output_type": "execute_result"
    }
   ],
   "source": [
    "type(l_sets)"
   ]
  },
  {
   "cell_type": "code",
   "execution_count": 77,
   "id": "6a401165-13d8-40d9-86ca-122a4c2659ec",
   "metadata": {},
   "outputs": [],
   "source": [
    "l_sets.remove(3)"
   ]
  },
  {
   "cell_type": "code",
   "execution_count": 78,
   "id": "0dd794bf-5291-4480-99f1-f826ab6c1408",
   "metadata": {},
   "outputs": [
    {
     "data": {
      "text/plain": [
       "{1, 2, 4}"
      ]
     },
     "execution_count": 78,
     "metadata": {},
     "output_type": "execute_result"
    }
   ],
   "source": [
    "l_sets"
   ]
  },
  {
   "cell_type": "code",
   "execution_count": 79,
   "id": "8c6d42c9-2ff9-4349-86af-83442233bab1",
   "metadata": {},
   "outputs": [],
   "source": [
    "l_sets.add(2)"
   ]
  },
  {
   "cell_type": "code",
   "execution_count": 81,
   "id": "ecc1b5a4-4e80-4ff7-b788-b9be8ef6e6f7",
   "metadata": {},
   "outputs": [],
   "source": [
    "l_sets.add(3)"
   ]
  },
  {
   "cell_type": "code",
   "execution_count": 82,
   "id": "2b1511c6-fc37-4ee3-9e7a-c43ed57b0312",
   "metadata": {},
   "outputs": [
    {
     "data": {
      "text/plain": [
       "{1, 2, 3, 4}"
      ]
     },
     "execution_count": 82,
     "metadata": {},
     "output_type": "execute_result"
    }
   ],
   "source": [
    "l_sets"
   ]
  },
  {
   "cell_type": "code",
   "execution_count": 83,
   "id": "6c1f985e-4654-47eb-9a7f-4074798956a8",
   "metadata": {},
   "outputs": [],
   "source": [
    "a = 6\n",
    "b = 2\n"
   ]
  },
  {
   "cell_type": "code",
   "execution_count": 84,
   "id": "b0283ff7-0e0c-4ff4-ae68-67f57c94ea94",
   "metadata": {},
   "outputs": [
    {
     "name": "stdout",
     "output_type": "stream",
     "text": [
      "a is greater than b\n"
     ]
    }
   ],
   "source": [
    "if a>b:\n",
    "    print(\"a is greater than b\")\n",
    "elif b>a:\n",
    "    print(\"b is greater than a\")\n",
    "else:\n",
    "    print(\"a & b are equal\")"
   ]
  },
  {
   "cell_type": "code",
   "execution_count": 89,
   "id": "66a6349d-b94d-4e15-894c-0b04012b631f",
   "metadata": {},
   "outputs": [
    {
     "name": "stdout",
     "output_type": "stream",
     "text": [
      "this is an odd number 1\n",
      "this is an even number 2\n",
      "this is an odd number 3\n",
      "this is an even number 4\n",
      "this is an odd number 5\n",
      "this is an even number 6\n",
      "this is an odd number 7\n",
      "this is an even number 8\n",
      "this is an odd number 9\n",
      "this is an even number 10\n"
     ]
    }
   ],
   "source": [
    "lis_1 = [1,2,3,4,5,6,7,8,9,10]\n",
    "for num in lis_1:\n",
    "    if num%2 ==0:\n",
    "        print(f\"this is an even number {num}\")\n",
    "    else:\n",
    "        print(f\"this is an odd number {num}\")\n"
   ]
  },
  {
   "cell_type": "code",
   "execution_count": 94,
   "id": "1dec2f56-6378-4af8-8c35-876e7466ca84",
   "metadata": {},
   "outputs": [],
   "source": [
    "x = 0 "
   ]
  },
  {
   "cell_type": "code",
   "execution_count": 95,
   "id": "525edcef-2dbd-4a45-8c60-dbe5cf705db6",
   "metadata": {},
   "outputs": [
    {
     "name": "stdout",
     "output_type": "stream",
     "text": [
      "x is currently: 0 x is still less than10, adding 1 to x\n",
      "x is currently: 1 x is still less than10, adding 1 to x\n",
      "x is currently: 2 x is still less than10, adding 1 to x\n",
      "x is currently: 3 x is still less than10, adding 1 to x\n",
      "x is currently: 4 x is still less than10, adding 1 to x\n",
      "x is currently: 5 x is still less than10, adding 1 to x\n",
      "x is currently: 6 x is still less than10, adding 1 to x\n",
      "x is currently: 7 x is still less than10, adding 1 to x\n",
      "x is currently: 8 x is still less than10, adding 1 to x\n",
      "x is currently: 9 x is still less than10, adding 1 to x\n"
     ]
    }
   ],
   "source": [
    "while x < 10:\n",
    "    print('x is currently:', x,end='')\n",
    "    print(\" x is still less than10, adding 1 to x\")\n",
    "    x += 1"
   ]
  },
  {
   "cell_type": "code",
   "execution_count": null,
   "id": "d8f58aee-e806-4f1a-bf9d-214e05d98830",
   "metadata": {},
   "outputs": [],
   "source": []
  }
 ],
 "metadata": {
  "kernelspec": {
   "display_name": "Python 3 (ipykernel)",
   "language": "python",
   "name": "python3"
  },
  "language_info": {
   "codemirror_mode": {
    "name": "ipython",
    "version": 3
   },
   "file_extension": ".py",
   "mimetype": "text/x-python",
   "name": "python",
   "nbconvert_exporter": "python",
   "pygments_lexer": "ipython3",
   "version": "3.10.5"
  }
 },
 "nbformat": 4,
 "nbformat_minor": 5
}
